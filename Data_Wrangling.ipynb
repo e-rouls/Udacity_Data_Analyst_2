{
 "cells": [
  {
   "cell_type": "markdown",
   "metadata": {
    "id": "lDYDkH-Zs7Nn"
   },
   "source": [
    "# Data Wrangling Project: - Politics and Guns\n",
    "\n",
    "## 1. Gather data"
   ]
  },
  {
   "cell_type": "markdown",
   "metadata": {
    "id": "LbN7z7rcuqpO"
   },
   "source": [
    "### **1.1.** Problem Statement"
   ]
  },
  {
   "cell_type": "markdown",
   "metadata": {
    "id": "gi6swhjSYqu2"
   },
   "source": [
    "I will be looking at both gun related deaths and voting data for U.S counties. From this I hope to determine whether there is a correlation between gun related deaths and the dominant political party of the county. Also, if the vote for any particular candidate within a political party sees a change in gun related deaths."
   ]
  },
  {
   "cell_type": "markdown",
   "metadata": {
    "id": "8AQfBAdUypMm"
   },
   "source": [
    "### **1.2.** Gather at least two datasets using two different data gathering methods\n"
   ]
  },
  {
   "cell_type": "markdown",
   "metadata": {
    "id": "7e6gS0wL1KTu"
   },
   "source": [
    "#### **Dataset 1**\n",
    "\n",
    "Type: TSV file\n",
    "\n",
    "Method: The data was gathered by importing via pandas directly from the web address.\n",
    "\n",
    "Dataset variables:\n",
    "\n",
    "* Year\n",
    "* County\n",
    "* State Code\n",
    "* County Code\n",
    "* Deaths\n",
    "* Population\n",
    "* Crude Rate\n",
    "* Crude Rate Lower 95% Confidence Interval\n",
    "* Crude Rate Upper 95% Confidence Interval\n",
    "* Age Adjusted Rate\n",
    "* Age Adjusted Rate Lower 95% Confidence Interval\n",
    "* Age Adjusted Rate Upper 95% Confidence Interval"
   ]
  },
  {
   "cell_type": "code",
   "execution_count": 1,
   "metadata": {
    "id": "Su8E0uLuYkHU"
   },
   "outputs": [],
   "source": [
    "# Import all relevant modules.\n",
    "\n",
    "import requests\n",
    "import pandas as pd\n",
    "import numpy as np\n",
    "import matplotlib.pyplot as plt"
   ]
  },
  {
   "cell_type": "code",
   "execution_count": 2,
   "metadata": {},
   "outputs": [],
   "source": [
    "# Import TSV file using pandas.\n",
    "\n",
    "df_1_raw = pd.read_csv('https://query.data.world/s/nh2zhsd7o3pjdk3czck2t7nkdbxnuc?dws=00000', sep = '\\t')\n",
    "\n",
    "# Save a working version of the raw data for cleaning\n",
    "\n",
    "df_1 = df_1_raw.copy()"
   ]
  },
  {
   "cell_type": "markdown",
   "metadata": {
    "id": "hoUjq1tPzz7P"
   },
   "source": [
    "#### Dataset 2\n",
    "\n",
    "Type: CSV File\n",
    "\n",
    "Method: The data was gathered using a get request on the site url.\n",
    "\n",
    "Dataset variables:\n",
    "\n",
    "* year\n",
    "* state\n",
    "* state_po\n",
    "* county\n",
    "* FIPS\n",
    "* office\n",
    "* candidate\n",
    "* party\n",
    "* candidatevotes\n",
    "* total votes\n",
    "* version"
   ]
  },
  {
   "cell_type": "code",
   "execution_count": 3,
   "metadata": {
    "id": "6zT0QxRyYmm7"
   },
   "outputs": [],
   "source": [
    "# Open the CSV file via a get request.\n",
    "\n",
    "url = 'https://query.data.world/s/rtrs43rfgzjoksiod4ahzgbdl2qrw4?dws=00000'\n",
    "info = requests.get(url)\n",
    "info.raise_for_status()\n",
    "open('countypres_2000-2016.csv', 'wb').write(info.content)\n",
    "df_2_raw = pd.read_csv('countypres_2000-2016.csv')\n",
    "\n",
    "# Save a working version of the raw data for cleaning\n",
    "\n",
    "df_2 = df_2_raw.copy()"
   ]
  },
  {
   "cell_type": "markdown",
   "metadata": {
    "id": "QwSWIVmotLgV"
   },
   "source": [
    "## 2. Assess data\n"
   ]
  },
  {
   "cell_type": "markdown",
   "metadata": {
    "id": "adaK2iPNzVu4"
   },
   "source": [
    "### 2.1 Quality Issues:\n",
    "1.  The FIPS and County Code are of different datatypes despite showing the same information.\n",
    "2.  Both the 'Crude Rate' and 'Age Adjusted Rate' in df_1 have less than half non-null values.\n",
    "3.  Datatypes could be changed to reduce file sizes and ease visualisation eg. 'year' in df_2 has only 5 unique values and thus could be changed to catagorical.\n",
    "4.  A large proportion of the 'party' column in df_1 is null, for which the corresponding 'candidate' is entered as 'other' making these rows redundant for the questions posed by this report."
   ]
  },
  {
   "cell_type": "code",
   "execution_count": 4,
   "metadata": {
    "id": "SpW59kh-zl8d"
   },
   "outputs": [
    {
     "data": {
      "text/html": [
       "<div>\n",
       "<style scoped>\n",
       "    .dataframe tbody tr th:only-of-type {\n",
       "        vertical-align: middle;\n",
       "    }\n",
       "\n",
       "    .dataframe tbody tr th {\n",
       "        vertical-align: top;\n",
       "    }\n",
       "\n",
       "    .dataframe thead th {\n",
       "        text-align: right;\n",
       "    }\n",
       "</style>\n",
       "<table border=\"1\" class=\"dataframe\">\n",
       "  <thead>\n",
       "    <tr style=\"text-align: right;\">\n",
       "      <th></th>\n",
       "      <th>Year</th>\n",
       "      <th>County</th>\n",
       "      <th>State Code</th>\n",
       "      <th>County Code</th>\n",
       "      <th>Deaths</th>\n",
       "      <th>Population</th>\n",
       "      <th>Crude Rate</th>\n",
       "      <th>Crude Rate Lower 95% Confidence Interval</th>\n",
       "      <th>Crude Rate Upper 95% Confidence Interval</th>\n",
       "      <th>Age Adjusted Rate</th>\n",
       "      <th>Age Adjusted Rate Lower 95% Confidence Interval</th>\n",
       "      <th>Age Adjusted Rate Upper 95% Confidence Interval</th>\n",
       "    </tr>\n",
       "  </thead>\n",
       "  <tbody>\n",
       "    <tr>\n",
       "      <th>0</th>\n",
       "      <td>1999</td>\n",
       "      <td>Baldwin County, AL</td>\n",
       "      <td>1</td>\n",
       "      <td>1003</td>\n",
       "      <td>22</td>\n",
       "      <td>137555</td>\n",
       "      <td>15.99</td>\n",
       "      <td>10.02</td>\n",
       "      <td>24.21</td>\n",
       "      <td>16.28</td>\n",
       "      <td>10.20</td>\n",
       "      <td>24.64</td>\n",
       "    </tr>\n",
       "    <tr>\n",
       "      <th>1</th>\n",
       "      <td>1999</td>\n",
       "      <td>Calhoun County, AL</td>\n",
       "      <td>1</td>\n",
       "      <td>1015</td>\n",
       "      <td>29</td>\n",
       "      <td>114910</td>\n",
       "      <td>25.24</td>\n",
       "      <td>16.90</td>\n",
       "      <td>36.24</td>\n",
       "      <td>25.21</td>\n",
       "      <td>16.89</td>\n",
       "      <td>36.21</td>\n",
       "    </tr>\n",
       "    <tr>\n",
       "      <th>2</th>\n",
       "      <td>1999</td>\n",
       "      <td>Chambers County, AL</td>\n",
       "      <td>1</td>\n",
       "      <td>1017</td>\n",
       "      <td>10</td>\n",
       "      <td>36527</td>\n",
       "      <td>NaN</td>\n",
       "      <td>13.13</td>\n",
       "      <td>50.35</td>\n",
       "      <td>NaN</td>\n",
       "      <td>12.91</td>\n",
       "      <td>49.51</td>\n",
       "    </tr>\n",
       "    <tr>\n",
       "      <th>3</th>\n",
       "      <td>1999</td>\n",
       "      <td>Colbert County, AL</td>\n",
       "      <td>1</td>\n",
       "      <td>1033</td>\n",
       "      <td>14</td>\n",
       "      <td>54715</td>\n",
       "      <td>NaN</td>\n",
       "      <td>13.99</td>\n",
       "      <td>42.93</td>\n",
       "      <td>NaN</td>\n",
       "      <td>13.54</td>\n",
       "      <td>41.57</td>\n",
       "    </tr>\n",
       "    <tr>\n",
       "      <th>4</th>\n",
       "      <td>1999</td>\n",
       "      <td>Dallas County, AL</td>\n",
       "      <td>1</td>\n",
       "      <td>1047</td>\n",
       "      <td>11</td>\n",
       "      <td>46722</td>\n",
       "      <td>NaN</td>\n",
       "      <td>11.75</td>\n",
       "      <td>42.13</td>\n",
       "      <td>NaN</td>\n",
       "      <td>12.15</td>\n",
       "      <td>43.54</td>\n",
       "    </tr>\n",
       "    <tr>\n",
       "      <th>5</th>\n",
       "      <td>1999</td>\n",
       "      <td>DeKalb County, AL</td>\n",
       "      <td>1</td>\n",
       "      <td>1049</td>\n",
       "      <td>15</td>\n",
       "      <td>63593</td>\n",
       "      <td>NaN</td>\n",
       "      <td>13.20</td>\n",
       "      <td>38.90</td>\n",
       "      <td>NaN</td>\n",
       "      <td>12.86</td>\n",
       "      <td>37.90</td>\n",
       "    </tr>\n",
       "    <tr>\n",
       "      <th>6</th>\n",
       "      <td>1999</td>\n",
       "      <td>Etowah County, AL</td>\n",
       "      <td>1</td>\n",
       "      <td>1055</td>\n",
       "      <td>23</td>\n",
       "      <td>104002</td>\n",
       "      <td>22.11</td>\n",
       "      <td>14.02</td>\n",
       "      <td>33.18</td>\n",
       "      <td>21.24</td>\n",
       "      <td>13.46</td>\n",
       "      <td>31.87</td>\n",
       "    </tr>\n",
       "    <tr>\n",
       "      <th>7</th>\n",
       "      <td>1999</td>\n",
       "      <td>Jackson County, AL</td>\n",
       "      <td>1</td>\n",
       "      <td>1071</td>\n",
       "      <td>10</td>\n",
       "      <td>53433</td>\n",
       "      <td>NaN</td>\n",
       "      <td>8.97</td>\n",
       "      <td>34.42</td>\n",
       "      <td>NaN</td>\n",
       "      <td>8.75</td>\n",
       "      <td>33.55</td>\n",
       "    </tr>\n",
       "    <tr>\n",
       "      <th>8</th>\n",
       "      <td>1999</td>\n",
       "      <td>Jefferson County, AL</td>\n",
       "      <td>1</td>\n",
       "      <td>1073</td>\n",
       "      <td>149</td>\n",
       "      <td>662845</td>\n",
       "      <td>22.48</td>\n",
       "      <td>18.87</td>\n",
       "      <td>26.09</td>\n",
       "      <td>22.18</td>\n",
       "      <td>18.62</td>\n",
       "      <td>25.75</td>\n",
       "    </tr>\n",
       "    <tr>\n",
       "      <th>9</th>\n",
       "      <td>1999</td>\n",
       "      <td>Lauderdale County, AL</td>\n",
       "      <td>1</td>\n",
       "      <td>1077</td>\n",
       "      <td>13</td>\n",
       "      <td>87590</td>\n",
       "      <td>NaN</td>\n",
       "      <td>7.90</td>\n",
       "      <td>25.38</td>\n",
       "      <td>NaN</td>\n",
       "      <td>7.19</td>\n",
       "      <td>23.08</td>\n",
       "    </tr>\n",
       "  </tbody>\n",
       "</table>\n",
       "</div>"
      ],
      "text/plain": [
       "   Year                 County  State Code  County Code  Deaths  Population  \\\n",
       "0  1999     Baldwin County, AL           1         1003      22      137555   \n",
       "1  1999     Calhoun County, AL           1         1015      29      114910   \n",
       "2  1999    Chambers County, AL           1         1017      10       36527   \n",
       "3  1999     Colbert County, AL           1         1033      14       54715   \n",
       "4  1999      Dallas County, AL           1         1047      11       46722   \n",
       "5  1999      DeKalb County, AL           1         1049      15       63593   \n",
       "6  1999      Etowah County, AL           1         1055      23      104002   \n",
       "7  1999     Jackson County, AL           1         1071      10       53433   \n",
       "8  1999   Jefferson County, AL           1         1073     149      662845   \n",
       "9  1999  Lauderdale County, AL           1         1077      13       87590   \n",
       "\n",
       "   Crude Rate  Crude Rate Lower 95% Confidence Interval  \\\n",
       "0       15.99                                     10.02   \n",
       "1       25.24                                     16.90   \n",
       "2         NaN                                     13.13   \n",
       "3         NaN                                     13.99   \n",
       "4         NaN                                     11.75   \n",
       "5         NaN                                     13.20   \n",
       "6       22.11                                     14.02   \n",
       "7         NaN                                      8.97   \n",
       "8       22.48                                     18.87   \n",
       "9         NaN                                      7.90   \n",
       "\n",
       "   Crude Rate Upper 95% Confidence Interval  Age Adjusted Rate  \\\n",
       "0                                     24.21              16.28   \n",
       "1                                     36.24              25.21   \n",
       "2                                     50.35                NaN   \n",
       "3                                     42.93                NaN   \n",
       "4                                     42.13                NaN   \n",
       "5                                     38.90                NaN   \n",
       "6                                     33.18              21.24   \n",
       "7                                     34.42                NaN   \n",
       "8                                     26.09              22.18   \n",
       "9                                     25.38                NaN   \n",
       "\n",
       "   Age Adjusted Rate Lower 95% Confidence Interval  \\\n",
       "0                                            10.20   \n",
       "1                                            16.89   \n",
       "2                                            12.91   \n",
       "3                                            13.54   \n",
       "4                                            12.15   \n",
       "5                                            12.86   \n",
       "6                                            13.46   \n",
       "7                                             8.75   \n",
       "8                                            18.62   \n",
       "9                                             7.19   \n",
       "\n",
       "   Age Adjusted Rate Upper 95% Confidence Interval  \n",
       "0                                            24.64  \n",
       "1                                            36.21  \n",
       "2                                            49.51  \n",
       "3                                            41.57  \n",
       "4                                            43.54  \n",
       "5                                            37.90  \n",
       "6                                            31.87  \n",
       "7                                            33.55  \n",
       "8                                            25.75  \n",
       "9                                            23.08  "
      ]
     },
     "execution_count": 4,
     "metadata": {},
     "output_type": "execute_result"
    }
   ],
   "source": [
    "# Using the .head() method the data can be visually inspected. \n",
    "# The visual inspection suggests we should look closer into quality issues: 1, 2, and 4.\n",
    "\n",
    "df_1.head(10)"
   ]
  },
  {
   "cell_type": "code",
   "execution_count": 5,
   "metadata": {},
   "outputs": [
    {
     "data": {
      "text/html": [
       "<div>\n",
       "<style scoped>\n",
       "    .dataframe tbody tr th:only-of-type {\n",
       "        vertical-align: middle;\n",
       "    }\n",
       "\n",
       "    .dataframe tbody tr th {\n",
       "        vertical-align: top;\n",
       "    }\n",
       "\n",
       "    .dataframe thead th {\n",
       "        text-align: right;\n",
       "    }\n",
       "</style>\n",
       "<table border=\"1\" class=\"dataframe\">\n",
       "  <thead>\n",
       "    <tr style=\"text-align: right;\">\n",
       "      <th></th>\n",
       "      <th>year</th>\n",
       "      <th>state</th>\n",
       "      <th>state_po</th>\n",
       "      <th>county</th>\n",
       "      <th>FIPS</th>\n",
       "      <th>office</th>\n",
       "      <th>candidate</th>\n",
       "      <th>party</th>\n",
       "      <th>candidatevotes</th>\n",
       "      <th>totalvotes</th>\n",
       "      <th>version</th>\n",
       "    </tr>\n",
       "  </thead>\n",
       "  <tbody>\n",
       "    <tr>\n",
       "      <th>0</th>\n",
       "      <td>2000</td>\n",
       "      <td>Alabama</td>\n",
       "      <td>AL</td>\n",
       "      <td>Autauga</td>\n",
       "      <td>1001.0</td>\n",
       "      <td>President</td>\n",
       "      <td>Al Gore</td>\n",
       "      <td>democrat</td>\n",
       "      <td>4942.0</td>\n",
       "      <td>17208</td>\n",
       "      <td>20191203</td>\n",
       "    </tr>\n",
       "    <tr>\n",
       "      <th>1</th>\n",
       "      <td>2000</td>\n",
       "      <td>Alabama</td>\n",
       "      <td>AL</td>\n",
       "      <td>Autauga</td>\n",
       "      <td>1001.0</td>\n",
       "      <td>President</td>\n",
       "      <td>George W. Bush</td>\n",
       "      <td>republican</td>\n",
       "      <td>11993.0</td>\n",
       "      <td>17208</td>\n",
       "      <td>20191203</td>\n",
       "    </tr>\n",
       "    <tr>\n",
       "      <th>2</th>\n",
       "      <td>2000</td>\n",
       "      <td>Alabama</td>\n",
       "      <td>AL</td>\n",
       "      <td>Autauga</td>\n",
       "      <td>1001.0</td>\n",
       "      <td>President</td>\n",
       "      <td>Ralph Nader</td>\n",
       "      <td>green</td>\n",
       "      <td>160.0</td>\n",
       "      <td>17208</td>\n",
       "      <td>20191203</td>\n",
       "    </tr>\n",
       "    <tr>\n",
       "      <th>3</th>\n",
       "      <td>2000</td>\n",
       "      <td>Alabama</td>\n",
       "      <td>AL</td>\n",
       "      <td>Autauga</td>\n",
       "      <td>1001.0</td>\n",
       "      <td>President</td>\n",
       "      <td>Other</td>\n",
       "      <td>NaN</td>\n",
       "      <td>113.0</td>\n",
       "      <td>17208</td>\n",
       "      <td>20191203</td>\n",
       "    </tr>\n",
       "    <tr>\n",
       "      <th>4</th>\n",
       "      <td>2000</td>\n",
       "      <td>Alabama</td>\n",
       "      <td>AL</td>\n",
       "      <td>Baldwin</td>\n",
       "      <td>1003.0</td>\n",
       "      <td>President</td>\n",
       "      <td>Al Gore</td>\n",
       "      <td>democrat</td>\n",
       "      <td>13997.0</td>\n",
       "      <td>56480</td>\n",
       "      <td>20191203</td>\n",
       "    </tr>\n",
       "    <tr>\n",
       "      <th>5</th>\n",
       "      <td>2000</td>\n",
       "      <td>Alabama</td>\n",
       "      <td>AL</td>\n",
       "      <td>Baldwin</td>\n",
       "      <td>1003.0</td>\n",
       "      <td>President</td>\n",
       "      <td>George W. Bush</td>\n",
       "      <td>republican</td>\n",
       "      <td>40872.0</td>\n",
       "      <td>56480</td>\n",
       "      <td>20191203</td>\n",
       "    </tr>\n",
       "    <tr>\n",
       "      <th>6</th>\n",
       "      <td>2000</td>\n",
       "      <td>Alabama</td>\n",
       "      <td>AL</td>\n",
       "      <td>Baldwin</td>\n",
       "      <td>1003.0</td>\n",
       "      <td>President</td>\n",
       "      <td>Ralph Nader</td>\n",
       "      <td>green</td>\n",
       "      <td>1033.0</td>\n",
       "      <td>56480</td>\n",
       "      <td>20191203</td>\n",
       "    </tr>\n",
       "    <tr>\n",
       "      <th>7</th>\n",
       "      <td>2000</td>\n",
       "      <td>Alabama</td>\n",
       "      <td>AL</td>\n",
       "      <td>Baldwin</td>\n",
       "      <td>1003.0</td>\n",
       "      <td>President</td>\n",
       "      <td>Other</td>\n",
       "      <td>NaN</td>\n",
       "      <td>578.0</td>\n",
       "      <td>56480</td>\n",
       "      <td>20191203</td>\n",
       "    </tr>\n",
       "    <tr>\n",
       "      <th>8</th>\n",
       "      <td>2000</td>\n",
       "      <td>Alabama</td>\n",
       "      <td>AL</td>\n",
       "      <td>Barbour</td>\n",
       "      <td>1005.0</td>\n",
       "      <td>President</td>\n",
       "      <td>Al Gore</td>\n",
       "      <td>democrat</td>\n",
       "      <td>5188.0</td>\n",
       "      <td>10395</td>\n",
       "      <td>20191203</td>\n",
       "    </tr>\n",
       "    <tr>\n",
       "      <th>9</th>\n",
       "      <td>2000</td>\n",
       "      <td>Alabama</td>\n",
       "      <td>AL</td>\n",
       "      <td>Barbour</td>\n",
       "      <td>1005.0</td>\n",
       "      <td>President</td>\n",
       "      <td>George W. Bush</td>\n",
       "      <td>republican</td>\n",
       "      <td>5096.0</td>\n",
       "      <td>10395</td>\n",
       "      <td>20191203</td>\n",
       "    </tr>\n",
       "  </tbody>\n",
       "</table>\n",
       "</div>"
      ],
      "text/plain": [
       "   year    state state_po   county    FIPS     office       candidate  \\\n",
       "0  2000  Alabama       AL  Autauga  1001.0  President         Al Gore   \n",
       "1  2000  Alabama       AL  Autauga  1001.0  President  George W. Bush   \n",
       "2  2000  Alabama       AL  Autauga  1001.0  President     Ralph Nader   \n",
       "3  2000  Alabama       AL  Autauga  1001.0  President           Other   \n",
       "4  2000  Alabama       AL  Baldwin  1003.0  President         Al Gore   \n",
       "5  2000  Alabama       AL  Baldwin  1003.0  President  George W. Bush   \n",
       "6  2000  Alabama       AL  Baldwin  1003.0  President     Ralph Nader   \n",
       "7  2000  Alabama       AL  Baldwin  1003.0  President           Other   \n",
       "8  2000  Alabama       AL  Barbour  1005.0  President         Al Gore   \n",
       "9  2000  Alabama       AL  Barbour  1005.0  President  George W. Bush   \n",
       "\n",
       "        party  candidatevotes  totalvotes   version  \n",
       "0    democrat          4942.0       17208  20191203  \n",
       "1  republican         11993.0       17208  20191203  \n",
       "2       green           160.0       17208  20191203  \n",
       "3         NaN           113.0       17208  20191203  \n",
       "4    democrat         13997.0       56480  20191203  \n",
       "5  republican         40872.0       56480  20191203  \n",
       "6       green          1033.0       56480  20191203  \n",
       "7         NaN           578.0       56480  20191203  \n",
       "8    democrat          5188.0       10395  20191203  \n",
       "9  republican          5096.0       10395  20191203  "
      ]
     },
     "execution_count": 5,
     "metadata": {},
     "output_type": "execute_result"
    }
   ],
   "source": [
    "df_2.head(10)"
   ]
  },
  {
   "cell_type": "code",
   "execution_count": 6,
   "metadata": {
    "id": "-qfcocStzsKg"
   },
   "outputs": [
    {
     "name": "stdout",
     "output_type": "stream",
     "text": [
      "<class 'pandas.core.series.Series'>\n",
      "RangeIndex: 14379 entries, 0 to 14378\n",
      "Series name: County Code\n",
      "Non-Null Count  Dtype\n",
      "--------------  -----\n",
      "14379 non-null  int64\n",
      "dtypes: int64(1)\n",
      "memory usage: 112.5 KB\n",
      "<class 'pandas.core.series.Series'>\n",
      "RangeIndex: 50524 entries, 0 to 50523\n",
      "Series name: FIPS\n",
      "Non-Null Count  Dtype  \n",
      "--------------  -----  \n",
      "50476 non-null  float64\n",
      "dtypes: float64(1)\n",
      "memory usage: 394.8 KB\n"
     ]
    }
   ],
   "source": [
    "# Using the .info() method we see that FIPS is a float and County Code is an int.\n",
    "\n",
    "df_1['County Code'].info()\n",
    "df_2['FIPS'].info()"
   ]
  },
  {
   "cell_type": "code",
   "execution_count": 7,
   "metadata": {},
   "outputs": [
    {
     "name": "stdout",
     "output_type": "stream",
     "text": [
      "<class 'pandas.core.frame.DataFrame'>\n",
      "RangeIndex: 14379 entries, 0 to 14378\n",
      "Data columns (total 12 columns):\n",
      " #   Column                                           Non-Null Count  Dtype  \n",
      "---  ------                                           --------------  -----  \n",
      " 0   Year                                             14379 non-null  int64  \n",
      " 1   County                                           14379 non-null  object \n",
      " 2   State Code                                       14379 non-null  int64  \n",
      " 3   County Code                                      14379 non-null  int64  \n",
      " 4   Deaths                                           14379 non-null  int64  \n",
      " 5   Population                                       14379 non-null  int64  \n",
      " 6   Crude Rate                                       6892 non-null   float64\n",
      " 7   Crude Rate Lower 95% Confidence Interval         14379 non-null  float64\n",
      " 8   Crude Rate Upper 95% Confidence Interval         14379 non-null  float64\n",
      " 9   Age Adjusted Rate                                6892 non-null   float64\n",
      " 10  Age Adjusted Rate Lower 95% Confidence Interval  14379 non-null  float64\n",
      " 11  Age Adjusted Rate Upper 95% Confidence Interval  14379 non-null  float64\n",
      "dtypes: float64(6), int64(5), object(1)\n",
      "memory usage: 1.3+ MB\n"
     ]
    }
   ],
   "source": [
    "# Using the .info() method we see that 'Crude Rate' and 'Age Adjusted Rate' have less than half non-null values.\n",
    "\n",
    "df_1.info()"
   ]
  },
  {
   "cell_type": "code",
   "execution_count": 8,
   "metadata": {},
   "outputs": [
    {
     "name": "stdout",
     "output_type": "stream",
     "text": [
      "<class 'pandas.core.frame.DataFrame'>\n",
      "RangeIndex: 50524 entries, 0 to 50523\n",
      "Data columns (total 11 columns):\n",
      " #   Column          Non-Null Count  Dtype  \n",
      "---  ------          --------------  -----  \n",
      " 0   year            50524 non-null  int64  \n",
      " 1   state           50524 non-null  object \n",
      " 2   state_po        50460 non-null  object \n",
      " 3   county          50524 non-null  object \n",
      " 4   FIPS            50476 non-null  float64\n",
      " 5   office          50524 non-null  object \n",
      " 6   candidate       50524 non-null  object \n",
      " 7   party           34735 non-null  object \n",
      " 8   candidatevotes  50120 non-null  float64\n",
      " 9   totalvotes      50524 non-null  int64  \n",
      " 10  version         50524 non-null  int64  \n",
      "dtypes: float64(2), int64(3), object(6)\n",
      "memory usage: 4.2+ MB\n"
     ]
    }
   ],
   "source": [
    "# Using the .info() and .nunique methods we see that several columns \n",
    "# are using inefficient data types given their number of unique values.\n",
    "# We also see that a large proportion of the 'party' column is null and can infer that so too is the 'candidate' column.\n",
    "\n",
    "df_2.info()"
   ]
  },
  {
   "cell_type": "code",
   "execution_count": 9,
   "metadata": {},
   "outputs": [
    {
     "data": {
      "text/plain": [
       "Year                                                  21\n",
       "County                                              1265\n",
       "State Code                                            51\n",
       "County Code                                         1265\n",
       "Deaths                                               392\n",
       "Population                                         14141\n",
       "Crude Rate                                          2290\n",
       "Crude Rate Lower 95% Confidence Interval            2154\n",
       "Crude Rate Upper 95% Confidence Interval            4442\n",
       "Age Adjusted Rate                                   2276\n",
       "Age Adjusted Rate Lower 95% Confidence Interval     2103\n",
       "Age Adjusted Rate Upper 95% Confidence Interval     4443\n",
       "dtype: int64"
      ]
     },
     "execution_count": 9,
     "metadata": {},
     "output_type": "execute_result"
    }
   ],
   "source": [
    "df_1.nunique()"
   ]
  },
  {
   "cell_type": "code",
   "execution_count": 10,
   "metadata": {},
   "outputs": [
    {
     "data": {
      "text/plain": [
       "year                  5\n",
       "state                51\n",
       "state_po             51\n",
       "county             1854\n",
       "FIPS               3155\n",
       "office                1\n",
       "candidate            10\n",
       "party                 3\n",
       "candidatevotes    17287\n",
       "totalvotes        12759\n",
       "version               1\n",
       "dtype: int64"
      ]
     },
     "execution_count": 10,
     "metadata": {},
     "output_type": "execute_result"
    }
   ],
   "source": [
    "df_2.nunique()"
   ]
  },
  {
   "cell_type": "markdown",
   "metadata": {
    "id": "lXhGiYyiwwKN"
   },
   "source": [
    "### 2.2 Tidiness Issues:\n",
    "1. The County column of df_1 contains two variables, County and the state abbreviation, or 'state_po' as it appears in df_2.\n",
    "2. Several columns that display the same data in each have different names. Also df_1 uses upper, lowercase, and space characters whereas df_2 only uses lower cases (with the exception of 'FIPS') and uses underscores instead of spaces.\n",
    "3. The 'version' and 'office' columns in df_2 are redundant.\n",
    "4. For each county in df_2 there are four candidates with associated parties and vote counts"
   ]
  },
  {
   "cell_type": "code",
   "execution_count": 11,
   "metadata": {
    "id": "iMhHyiyLM2I3"
   },
   "outputs": [
    {
     "data": {
      "text/html": [
       "<div>\n",
       "<style scoped>\n",
       "    .dataframe tbody tr th:only-of-type {\n",
       "        vertical-align: middle;\n",
       "    }\n",
       "\n",
       "    .dataframe tbody tr th {\n",
       "        vertical-align: top;\n",
       "    }\n",
       "\n",
       "    .dataframe thead th {\n",
       "        text-align: right;\n",
       "    }\n",
       "</style>\n",
       "<table border=\"1\" class=\"dataframe\">\n",
       "  <thead>\n",
       "    <tr style=\"text-align: right;\">\n",
       "      <th></th>\n",
       "      <th>Year</th>\n",
       "      <th>County</th>\n",
       "      <th>State Code</th>\n",
       "      <th>County Code</th>\n",
       "      <th>Deaths</th>\n",
       "      <th>Population</th>\n",
       "      <th>Crude Rate</th>\n",
       "      <th>Crude Rate Lower 95% Confidence Interval</th>\n",
       "      <th>Crude Rate Upper 95% Confidence Interval</th>\n",
       "      <th>Age Adjusted Rate</th>\n",
       "      <th>Age Adjusted Rate Lower 95% Confidence Interval</th>\n",
       "      <th>Age Adjusted Rate Upper 95% Confidence Interval</th>\n",
       "    </tr>\n",
       "  </thead>\n",
       "  <tbody>\n",
       "    <tr>\n",
       "      <th>0</th>\n",
       "      <td>1999</td>\n",
       "      <td>Baldwin County, AL</td>\n",
       "      <td>1</td>\n",
       "      <td>1003</td>\n",
       "      <td>22</td>\n",
       "      <td>137555</td>\n",
       "      <td>15.99</td>\n",
       "      <td>10.02</td>\n",
       "      <td>24.21</td>\n",
       "      <td>16.28</td>\n",
       "      <td>10.20</td>\n",
       "      <td>24.64</td>\n",
       "    </tr>\n",
       "    <tr>\n",
       "      <th>1</th>\n",
       "      <td>1999</td>\n",
       "      <td>Calhoun County, AL</td>\n",
       "      <td>1</td>\n",
       "      <td>1015</td>\n",
       "      <td>29</td>\n",
       "      <td>114910</td>\n",
       "      <td>25.24</td>\n",
       "      <td>16.90</td>\n",
       "      <td>36.24</td>\n",
       "      <td>25.21</td>\n",
       "      <td>16.89</td>\n",
       "      <td>36.21</td>\n",
       "    </tr>\n",
       "    <tr>\n",
       "      <th>2</th>\n",
       "      <td>1999</td>\n",
       "      <td>Chambers County, AL</td>\n",
       "      <td>1</td>\n",
       "      <td>1017</td>\n",
       "      <td>10</td>\n",
       "      <td>36527</td>\n",
       "      <td>NaN</td>\n",
       "      <td>13.13</td>\n",
       "      <td>50.35</td>\n",
       "      <td>NaN</td>\n",
       "      <td>12.91</td>\n",
       "      <td>49.51</td>\n",
       "    </tr>\n",
       "    <tr>\n",
       "      <th>3</th>\n",
       "      <td>1999</td>\n",
       "      <td>Colbert County, AL</td>\n",
       "      <td>1</td>\n",
       "      <td>1033</td>\n",
       "      <td>14</td>\n",
       "      <td>54715</td>\n",
       "      <td>NaN</td>\n",
       "      <td>13.99</td>\n",
       "      <td>42.93</td>\n",
       "      <td>NaN</td>\n",
       "      <td>13.54</td>\n",
       "      <td>41.57</td>\n",
       "    </tr>\n",
       "    <tr>\n",
       "      <th>4</th>\n",
       "      <td>1999</td>\n",
       "      <td>Dallas County, AL</td>\n",
       "      <td>1</td>\n",
       "      <td>1047</td>\n",
       "      <td>11</td>\n",
       "      <td>46722</td>\n",
       "      <td>NaN</td>\n",
       "      <td>11.75</td>\n",
       "      <td>42.13</td>\n",
       "      <td>NaN</td>\n",
       "      <td>12.15</td>\n",
       "      <td>43.54</td>\n",
       "    </tr>\n",
       "  </tbody>\n",
       "</table>\n",
       "</div>"
      ],
      "text/plain": [
       "   Year               County  State Code  County Code  Deaths  Population  \\\n",
       "0  1999   Baldwin County, AL           1         1003      22      137555   \n",
       "1  1999   Calhoun County, AL           1         1015      29      114910   \n",
       "2  1999  Chambers County, AL           1         1017      10       36527   \n",
       "3  1999   Colbert County, AL           1         1033      14       54715   \n",
       "4  1999    Dallas County, AL           1         1047      11       46722   \n",
       "\n",
       "   Crude Rate  Crude Rate Lower 95% Confidence Interval  \\\n",
       "0       15.99                                     10.02   \n",
       "1       25.24                                     16.90   \n",
       "2         NaN                                     13.13   \n",
       "3         NaN                                     13.99   \n",
       "4         NaN                                     11.75   \n",
       "\n",
       "   Crude Rate Upper 95% Confidence Interval  Age Adjusted Rate  \\\n",
       "0                                     24.21              16.28   \n",
       "1                                     36.24              25.21   \n",
       "2                                     50.35                NaN   \n",
       "3                                     42.93                NaN   \n",
       "4                                     42.13                NaN   \n",
       "\n",
       "   Age Adjusted Rate Lower 95% Confidence Interval  \\\n",
       "0                                            10.20   \n",
       "1                                            16.89   \n",
       "2                                            12.91   \n",
       "3                                            13.54   \n",
       "4                                            12.15   \n",
       "\n",
       "   Age Adjusted Rate Upper 95% Confidence Interval  \n",
       "0                                            24.64  \n",
       "1                                            36.21  \n",
       "2                                            49.51  \n",
       "3                                            41.57  \n",
       "4                                            43.54  "
      ]
     },
     "execution_count": 11,
     "metadata": {},
     "output_type": "execute_result"
    }
   ],
   "source": [
    "# Again using the .head() method to visually inspect the data we see that the 'County' column contains two variables,\n",
    "# and that the datasets have several columns in common but under differently formatted labels.\n",
    "\n",
    "df_1.head()"
   ]
  },
  {
   "cell_type": "code",
   "execution_count": 12,
   "metadata": {},
   "outputs": [
    {
     "data": {
      "text/html": [
       "<div>\n",
       "<style scoped>\n",
       "    .dataframe tbody tr th:only-of-type {\n",
       "        vertical-align: middle;\n",
       "    }\n",
       "\n",
       "    .dataframe tbody tr th {\n",
       "        vertical-align: top;\n",
       "    }\n",
       "\n",
       "    .dataframe thead th {\n",
       "        text-align: right;\n",
       "    }\n",
       "</style>\n",
       "<table border=\"1\" class=\"dataframe\">\n",
       "  <thead>\n",
       "    <tr style=\"text-align: right;\">\n",
       "      <th></th>\n",
       "      <th>year</th>\n",
       "      <th>state</th>\n",
       "      <th>state_po</th>\n",
       "      <th>county</th>\n",
       "      <th>FIPS</th>\n",
       "      <th>office</th>\n",
       "      <th>candidate</th>\n",
       "      <th>party</th>\n",
       "      <th>candidatevotes</th>\n",
       "      <th>totalvotes</th>\n",
       "      <th>version</th>\n",
       "    </tr>\n",
       "  </thead>\n",
       "  <tbody>\n",
       "    <tr>\n",
       "      <th>0</th>\n",
       "      <td>2000</td>\n",
       "      <td>Alabama</td>\n",
       "      <td>AL</td>\n",
       "      <td>Autauga</td>\n",
       "      <td>1001.0</td>\n",
       "      <td>President</td>\n",
       "      <td>Al Gore</td>\n",
       "      <td>democrat</td>\n",
       "      <td>4942.0</td>\n",
       "      <td>17208</td>\n",
       "      <td>20191203</td>\n",
       "    </tr>\n",
       "    <tr>\n",
       "      <th>1</th>\n",
       "      <td>2000</td>\n",
       "      <td>Alabama</td>\n",
       "      <td>AL</td>\n",
       "      <td>Autauga</td>\n",
       "      <td>1001.0</td>\n",
       "      <td>President</td>\n",
       "      <td>George W. Bush</td>\n",
       "      <td>republican</td>\n",
       "      <td>11993.0</td>\n",
       "      <td>17208</td>\n",
       "      <td>20191203</td>\n",
       "    </tr>\n",
       "    <tr>\n",
       "      <th>2</th>\n",
       "      <td>2000</td>\n",
       "      <td>Alabama</td>\n",
       "      <td>AL</td>\n",
       "      <td>Autauga</td>\n",
       "      <td>1001.0</td>\n",
       "      <td>President</td>\n",
       "      <td>Ralph Nader</td>\n",
       "      <td>green</td>\n",
       "      <td>160.0</td>\n",
       "      <td>17208</td>\n",
       "      <td>20191203</td>\n",
       "    </tr>\n",
       "    <tr>\n",
       "      <th>3</th>\n",
       "      <td>2000</td>\n",
       "      <td>Alabama</td>\n",
       "      <td>AL</td>\n",
       "      <td>Autauga</td>\n",
       "      <td>1001.0</td>\n",
       "      <td>President</td>\n",
       "      <td>Other</td>\n",
       "      <td>NaN</td>\n",
       "      <td>113.0</td>\n",
       "      <td>17208</td>\n",
       "      <td>20191203</td>\n",
       "    </tr>\n",
       "    <tr>\n",
       "      <th>4</th>\n",
       "      <td>2000</td>\n",
       "      <td>Alabama</td>\n",
       "      <td>AL</td>\n",
       "      <td>Baldwin</td>\n",
       "      <td>1003.0</td>\n",
       "      <td>President</td>\n",
       "      <td>Al Gore</td>\n",
       "      <td>democrat</td>\n",
       "      <td>13997.0</td>\n",
       "      <td>56480</td>\n",
       "      <td>20191203</td>\n",
       "    </tr>\n",
       "    <tr>\n",
       "      <th>5</th>\n",
       "      <td>2000</td>\n",
       "      <td>Alabama</td>\n",
       "      <td>AL</td>\n",
       "      <td>Baldwin</td>\n",
       "      <td>1003.0</td>\n",
       "      <td>President</td>\n",
       "      <td>George W. Bush</td>\n",
       "      <td>republican</td>\n",
       "      <td>40872.0</td>\n",
       "      <td>56480</td>\n",
       "      <td>20191203</td>\n",
       "    </tr>\n",
       "    <tr>\n",
       "      <th>6</th>\n",
       "      <td>2000</td>\n",
       "      <td>Alabama</td>\n",
       "      <td>AL</td>\n",
       "      <td>Baldwin</td>\n",
       "      <td>1003.0</td>\n",
       "      <td>President</td>\n",
       "      <td>Ralph Nader</td>\n",
       "      <td>green</td>\n",
       "      <td>1033.0</td>\n",
       "      <td>56480</td>\n",
       "      <td>20191203</td>\n",
       "    </tr>\n",
       "    <tr>\n",
       "      <th>7</th>\n",
       "      <td>2000</td>\n",
       "      <td>Alabama</td>\n",
       "      <td>AL</td>\n",
       "      <td>Baldwin</td>\n",
       "      <td>1003.0</td>\n",
       "      <td>President</td>\n",
       "      <td>Other</td>\n",
       "      <td>NaN</td>\n",
       "      <td>578.0</td>\n",
       "      <td>56480</td>\n",
       "      <td>20191203</td>\n",
       "    </tr>\n",
       "  </tbody>\n",
       "</table>\n",
       "</div>"
      ],
      "text/plain": [
       "   year    state state_po   county    FIPS     office       candidate  \\\n",
       "0  2000  Alabama       AL  Autauga  1001.0  President         Al Gore   \n",
       "1  2000  Alabama       AL  Autauga  1001.0  President  George W. Bush   \n",
       "2  2000  Alabama       AL  Autauga  1001.0  President     Ralph Nader   \n",
       "3  2000  Alabama       AL  Autauga  1001.0  President           Other   \n",
       "4  2000  Alabama       AL  Baldwin  1003.0  President         Al Gore   \n",
       "5  2000  Alabama       AL  Baldwin  1003.0  President  George W. Bush   \n",
       "6  2000  Alabama       AL  Baldwin  1003.0  President     Ralph Nader   \n",
       "7  2000  Alabama       AL  Baldwin  1003.0  President           Other   \n",
       "\n",
       "        party  candidatevotes  totalvotes   version  \n",
       "0    democrat          4942.0       17208  20191203  \n",
       "1  republican         11993.0       17208  20191203  \n",
       "2       green           160.0       17208  20191203  \n",
       "3         NaN           113.0       17208  20191203  \n",
       "4    democrat         13997.0       56480  20191203  \n",
       "5  republican         40872.0       56480  20191203  \n",
       "6       green          1033.0       56480  20191203  \n",
       "7         NaN           578.0       56480  20191203  "
      ]
     },
     "execution_count": 12,
     "metadata": {},
     "output_type": "execute_result"
    }
   ],
   "source": [
    "# Here we see how each county has four entries for candidate, party, votes etc.\n",
    "\n",
    "df_2.head(8)"
   ]
  },
  {
   "cell_type": "code",
   "execution_count": 13,
   "metadata": {
    "id": "bnviRCUI-bb7"
   },
   "outputs": [
    {
     "data": {
      "text/plain": [
       "year                  5\n",
       "state                51\n",
       "state_po             51\n",
       "county             1854\n",
       "FIPS               3155\n",
       "office                1\n",
       "candidate            10\n",
       "party                 3\n",
       "candidatevotes    17287\n",
       "totalvotes        12759\n",
       "version               1\n",
       "dtype: int64"
      ]
     },
     "execution_count": 13,
     "metadata": {},
     "output_type": "execute_result"
    }
   ],
   "source": [
    "# Using the .nunique() method we see that df_2 has two completely redundant columns with only one unique value.\n",
    "df_2.nunique()"
   ]
  },
  {
   "cell_type": "markdown",
   "metadata": {
    "id": "D6gmLnBttpCh"
   },
   "source": [
    "## 3. Clean data\n"
   ]
  },
  {
   "cell_type": "markdown",
   "metadata": {},
   "source": [
    "I will take the following steps in order to clean the data:\n",
    "\n",
    "Tidiness Issues:\n",
    "\n",
    "1. Drop irrelevent columns (Adressing Tidiness Issues \\#1 \\#3)\n",
    "2. Rename remaining columns (Adressing Tidiness Issue \\#2)\n",
    "3. Remove null values and remove rows from df_2 for non majority candidates (Addressing Tidiness Issue \\#4 and Quality Issue \\#4)\n",
    "\n",
    "Quality Issues:\n",
    "\n",
    "4. Replace null values (Adressing Quality Issues \\#2)\n",
    "5. Change datatypes (Adressing Quality Issue \\#1 \\#3)\n",
    "6. Merge the two data sets using the county code as a key\n"
   ]
  },
  {
   "cell_type": "markdown",
   "metadata": {
    "id": "FmFhN52Yyn3l"
   },
   "source": [
    "#### 3.1 Drop irrelevent columns (Adressing Tidiness Issues \\#1 \\#3)"
   ]
  },
  {
   "cell_type": "code",
   "execution_count": 14,
   "metadata": {},
   "outputs": [],
   "source": [
    "# For df_1 I have chosen to drop all columns after 'Crude Rate' as they will not be used for the analysis,\n",
    "# I am also dropping the 'State Code' and 'County' columns as the state name and county are repeated in df_2\n",
    "\n",
    "df_1.drop(['Crude Rate Lower 95% Confidence Interval','Crude Rate Upper 95% Confidence Interval',\n",
    "           'Age Adjusted Rate', 'Age Adjusted Rate Lower 95% Confidence Interval',\n",
    "           'Age Adjusted Rate Upper 95% Confidence Interval',\n",
    "          'State Code', 'County'], axis = 1, inplace = True)"
   ]
  },
  {
   "cell_type": "code",
   "execution_count": 15,
   "metadata": {},
   "outputs": [
    {
     "data": {
      "text/html": [
       "<div>\n",
       "<style scoped>\n",
       "    .dataframe tbody tr th:only-of-type {\n",
       "        vertical-align: middle;\n",
       "    }\n",
       "\n",
       "    .dataframe tbody tr th {\n",
       "        vertical-align: top;\n",
       "    }\n",
       "\n",
       "    .dataframe thead th {\n",
       "        text-align: right;\n",
       "    }\n",
       "</style>\n",
       "<table border=\"1\" class=\"dataframe\">\n",
       "  <thead>\n",
       "    <tr style=\"text-align: right;\">\n",
       "      <th></th>\n",
       "      <th>Year</th>\n",
       "      <th>County Code</th>\n",
       "      <th>Deaths</th>\n",
       "      <th>Population</th>\n",
       "      <th>Crude Rate</th>\n",
       "    </tr>\n",
       "  </thead>\n",
       "  <tbody>\n",
       "    <tr>\n",
       "      <th>0</th>\n",
       "      <td>1999</td>\n",
       "      <td>1003</td>\n",
       "      <td>22</td>\n",
       "      <td>137555</td>\n",
       "      <td>15.99</td>\n",
       "    </tr>\n",
       "  </tbody>\n",
       "</table>\n",
       "</div>"
      ],
      "text/plain": [
       "   Year  County Code  Deaths  Population  Crude Rate\n",
       "0  1999         1003      22      137555       15.99"
      ]
     },
     "execution_count": 15,
     "metadata": {},
     "output_type": "execute_result"
    }
   ],
   "source": [
    "df_1.head(1)"
   ]
  },
  {
   "cell_type": "code",
   "execution_count": 16,
   "metadata": {},
   "outputs": [],
   "source": [
    "# For df_2 I am dropping the two redundant columns (office and version) \n",
    "# as well as two columns that won't be used for tha analysis (totalvotes and state_po)\n",
    "\n",
    "df_2.drop(['version', 'office', 'totalvotes', 'state_po'], axis = 1, inplace = True)"
   ]
  },
  {
   "cell_type": "code",
   "execution_count": 17,
   "metadata": {},
   "outputs": [
    {
     "data": {
      "text/html": [
       "<div>\n",
       "<style scoped>\n",
       "    .dataframe tbody tr th:only-of-type {\n",
       "        vertical-align: middle;\n",
       "    }\n",
       "\n",
       "    .dataframe tbody tr th {\n",
       "        vertical-align: top;\n",
       "    }\n",
       "\n",
       "    .dataframe thead th {\n",
       "        text-align: right;\n",
       "    }\n",
       "</style>\n",
       "<table border=\"1\" class=\"dataframe\">\n",
       "  <thead>\n",
       "    <tr style=\"text-align: right;\">\n",
       "      <th></th>\n",
       "      <th>year</th>\n",
       "      <th>state</th>\n",
       "      <th>county</th>\n",
       "      <th>FIPS</th>\n",
       "      <th>candidate</th>\n",
       "      <th>party</th>\n",
       "      <th>candidatevotes</th>\n",
       "    </tr>\n",
       "  </thead>\n",
       "  <tbody>\n",
       "    <tr>\n",
       "      <th>0</th>\n",
       "      <td>2000</td>\n",
       "      <td>Alabama</td>\n",
       "      <td>Autauga</td>\n",
       "      <td>1001.0</td>\n",
       "      <td>Al Gore</td>\n",
       "      <td>democrat</td>\n",
       "      <td>4942.0</td>\n",
       "    </tr>\n",
       "  </tbody>\n",
       "</table>\n",
       "</div>"
      ],
      "text/plain": [
       "   year    state   county    FIPS candidate     party  candidatevotes\n",
       "0  2000  Alabama  Autauga  1001.0   Al Gore  democrat          4942.0"
      ]
     },
     "execution_count": 17,
     "metadata": {},
     "output_type": "execute_result"
    }
   ],
   "source": [
    "df_2.head(1)"
   ]
  },
  {
   "cell_type": "markdown",
   "metadata": {},
   "source": [
    "#### 3.2 Rename remaining columns (Adressing Tidiness Issue \\#2)"
   ]
  },
  {
   "cell_type": "code",
   "execution_count": 18,
   "metadata": {},
   "outputs": [],
   "source": [
    "df_1.rename({'Year': 'year', 'County Code': 'county_code', \n",
    "             'Deaths': 'deaths', 'Population': 'population', \n",
    "             'Crude Rate': 'crude_rate'}, axis = 1, inplace = True)"
   ]
  },
  {
   "cell_type": "code",
   "execution_count": 19,
   "metadata": {},
   "outputs": [
    {
     "data": {
      "text/html": [
       "<div>\n",
       "<style scoped>\n",
       "    .dataframe tbody tr th:only-of-type {\n",
       "        vertical-align: middle;\n",
       "    }\n",
       "\n",
       "    .dataframe tbody tr th {\n",
       "        vertical-align: top;\n",
       "    }\n",
       "\n",
       "    .dataframe thead th {\n",
       "        text-align: right;\n",
       "    }\n",
       "</style>\n",
       "<table border=\"1\" class=\"dataframe\">\n",
       "  <thead>\n",
       "    <tr style=\"text-align: right;\">\n",
       "      <th></th>\n",
       "      <th>year</th>\n",
       "      <th>county_code</th>\n",
       "      <th>deaths</th>\n",
       "      <th>population</th>\n",
       "      <th>crude_rate</th>\n",
       "    </tr>\n",
       "  </thead>\n",
       "  <tbody>\n",
       "    <tr>\n",
       "      <th>0</th>\n",
       "      <td>1999</td>\n",
       "      <td>1003</td>\n",
       "      <td>22</td>\n",
       "      <td>137555</td>\n",
       "      <td>15.99</td>\n",
       "    </tr>\n",
       "  </tbody>\n",
       "</table>\n",
       "</div>"
      ],
      "text/plain": [
       "   year  county_code  deaths  population  crude_rate\n",
       "0  1999         1003      22      137555       15.99"
      ]
     },
     "execution_count": 19,
     "metadata": {},
     "output_type": "execute_result"
    }
   ],
   "source": [
    "df_1.head(1)"
   ]
  },
  {
   "cell_type": "code",
   "execution_count": 20,
   "metadata": {},
   "outputs": [],
   "source": [
    "df_2.rename({'year': 'year', 'FIPS': 'county_code', \n",
    "             'candidatevotes': 'votes'}, axis = 1, inplace = True)"
   ]
  },
  {
   "cell_type": "code",
   "execution_count": 21,
   "metadata": {},
   "outputs": [
    {
     "data": {
      "text/html": [
       "<div>\n",
       "<style scoped>\n",
       "    .dataframe tbody tr th:only-of-type {\n",
       "        vertical-align: middle;\n",
       "    }\n",
       "\n",
       "    .dataframe tbody tr th {\n",
       "        vertical-align: top;\n",
       "    }\n",
       "\n",
       "    .dataframe thead th {\n",
       "        text-align: right;\n",
       "    }\n",
       "</style>\n",
       "<table border=\"1\" class=\"dataframe\">\n",
       "  <thead>\n",
       "    <tr style=\"text-align: right;\">\n",
       "      <th></th>\n",
       "      <th>year</th>\n",
       "      <th>state</th>\n",
       "      <th>county</th>\n",
       "      <th>county_code</th>\n",
       "      <th>candidate</th>\n",
       "      <th>party</th>\n",
       "      <th>votes</th>\n",
       "    </tr>\n",
       "  </thead>\n",
       "  <tbody>\n",
       "    <tr>\n",
       "      <th>0</th>\n",
       "      <td>2000</td>\n",
       "      <td>Alabama</td>\n",
       "      <td>Autauga</td>\n",
       "      <td>1001.0</td>\n",
       "      <td>Al Gore</td>\n",
       "      <td>democrat</td>\n",
       "      <td>4942.0</td>\n",
       "    </tr>\n",
       "  </tbody>\n",
       "</table>\n",
       "</div>"
      ],
      "text/plain": [
       "   year    state   county  county_code candidate     party   votes\n",
       "0  2000  Alabama  Autauga       1001.0   Al Gore  democrat  4942.0"
      ]
     },
     "execution_count": 21,
     "metadata": {},
     "output_type": "execute_result"
    }
   ],
   "source": [
    "df_2.head(1)"
   ]
  },
  {
   "cell_type": "markdown",
   "metadata": {},
   "source": [
    "#### 3.3 Remove null values and remove rows from df_2 for non majority candidates (Addressing Tidiness Issue \\#4 and Quality Issue \\#4)"
   ]
  },
  {
   "cell_type": "code",
   "execution_count": 22,
   "metadata": {},
   "outputs": [],
   "source": [
    "# For df_2 I will be removing all rows with missing values.\n",
    "# A very small proportion of rows are missing values for county_code and votes.\n",
    "# A large proportion of values for party are missing however these rows would be removed \n",
    "# when finding the majority vote per county anyway.\n",
    "\n",
    "df_2 = df_2.dropna()"
   ]
  },
  {
   "cell_type": "code",
   "execution_count": 23,
   "metadata": {},
   "outputs": [
    {
     "name": "stdout",
     "output_type": "stream",
     "text": [
      "<class 'pandas.core.frame.DataFrame'>\n",
      "Int64Index: 34417 entries, 0 to 50522\n",
      "Data columns (total 7 columns):\n",
      " #   Column       Non-Null Count  Dtype  \n",
      "---  ------       --------------  -----  \n",
      " 0   year         34417 non-null  int64  \n",
      " 1   state        34417 non-null  object \n",
      " 2   county       34417 non-null  object \n",
      " 3   county_code  34417 non-null  float64\n",
      " 4   candidate    34417 non-null  object \n",
      " 5   party        34417 non-null  object \n",
      " 6   votes        34417 non-null  float64\n",
      "dtypes: float64(2), int64(1), object(4)\n",
      "memory usage: 2.1+ MB\n"
     ]
    }
   ],
   "source": [
    "df_2.info()"
   ]
  },
  {
   "cell_type": "code",
   "execution_count": 24,
   "metadata": {},
   "outputs": [
    {
     "data": {
      "text/html": [
       "<div>\n",
       "<style scoped>\n",
       "    .dataframe tbody tr th:only-of-type {\n",
       "        vertical-align: middle;\n",
       "    }\n",
       "\n",
       "    .dataframe tbody tr th {\n",
       "        vertical-align: top;\n",
       "    }\n",
       "\n",
       "    .dataframe thead th {\n",
       "        text-align: right;\n",
       "    }\n",
       "</style>\n",
       "<table border=\"1\" class=\"dataframe\">\n",
       "  <thead>\n",
       "    <tr style=\"text-align: right;\">\n",
       "      <th></th>\n",
       "      <th>year</th>\n",
       "      <th>state</th>\n",
       "      <th>county</th>\n",
       "      <th>county_code</th>\n",
       "      <th>candidate</th>\n",
       "      <th>party</th>\n",
       "      <th>votes</th>\n",
       "    </tr>\n",
       "  </thead>\n",
       "  <tbody>\n",
       "    <tr>\n",
       "      <th>17</th>\n",
       "      <td>2000</td>\n",
       "      <td>Alabama</td>\n",
       "      <td>Blount</td>\n",
       "      <td>1009.0</td>\n",
       "      <td>George W. Bush</td>\n",
       "      <td>republican</td>\n",
       "      <td>12667.0</td>\n",
       "    </tr>\n",
       "    <tr>\n",
       "      <th>13</th>\n",
       "      <td>2000</td>\n",
       "      <td>Alabama</td>\n",
       "      <td>Bibb</td>\n",
       "      <td>1007.0</td>\n",
       "      <td>George W. Bush</td>\n",
       "      <td>republican</td>\n",
       "      <td>4273.0</td>\n",
       "    </tr>\n",
       "    <tr>\n",
       "      <th>8</th>\n",
       "      <td>2000</td>\n",
       "      <td>Alabama</td>\n",
       "      <td>Barbour</td>\n",
       "      <td>1005.0</td>\n",
       "      <td>Al Gore</td>\n",
       "      <td>democrat</td>\n",
       "      <td>5188.0</td>\n",
       "    </tr>\n",
       "    <tr>\n",
       "      <th>5</th>\n",
       "      <td>2000</td>\n",
       "      <td>Alabama</td>\n",
       "      <td>Baldwin</td>\n",
       "      <td>1003.0</td>\n",
       "      <td>George W. Bush</td>\n",
       "      <td>republican</td>\n",
       "      <td>40872.0</td>\n",
       "    </tr>\n",
       "    <tr>\n",
       "      <th>1</th>\n",
       "      <td>2000</td>\n",
       "      <td>Alabama</td>\n",
       "      <td>Autauga</td>\n",
       "      <td>1001.0</td>\n",
       "      <td>George W. Bush</td>\n",
       "      <td>republican</td>\n",
       "      <td>11993.0</td>\n",
       "    </tr>\n",
       "  </tbody>\n",
       "</table>\n",
       "</div>"
      ],
      "text/plain": [
       "    year    state   county  county_code       candidate       party    votes\n",
       "17  2000  Alabama   Blount       1009.0  George W. Bush  republican  12667.0\n",
       "13  2000  Alabama     Bibb       1007.0  George W. Bush  republican   4273.0\n",
       "8   2000  Alabama  Barbour       1005.0         Al Gore    democrat   5188.0\n",
       "5   2000  Alabama  Baldwin       1003.0  George W. Bush  republican  40872.0\n",
       "1   2000  Alabama  Autauga       1001.0  George W. Bush  republican  11993.0"
      ]
     },
     "execution_count": 24,
     "metadata": {},
     "output_type": "execute_result"
    }
   ],
   "source": [
    "# Here I am finding rows where the year and county are duplicated, \n",
    "# sorting them according to the number of votes, and dropping all but the row with the most votes\n",
    "\n",
    "subset = ['year', 'county_code']\n",
    "df_2 = df_2.sort_values(subset + ['votes'], ascending = False).drop_duplicates(subset)\n",
    "\n",
    "# The .tail() (the order being reversed in the process) can be compared to the result of the .head() method\n",
    "# used previously to show that all but the majority candidates have been dropped from the data set\n",
    "df_2.tail()"
   ]
  },
  {
   "cell_type": "code",
   "execution_count": 25,
   "metadata": {},
   "outputs": [],
   "source": [
    "# The votes column having served it's purpose may now also be dropped\n",
    "\n",
    "df_2.drop('votes', axis = 1, inplace = True)"
   ]
  },
  {
   "cell_type": "markdown",
   "metadata": {},
   "source": [
    "#### 3.4. Replace null values (Adressing Quality Issues \\#2)"
   ]
  },
  {
   "cell_type": "code",
   "execution_count": 26,
   "metadata": {},
   "outputs": [],
   "source": [
    "# I am replacing all missing values of crude_rate with a calculated value.\n",
    "# The crude_rate in df_1 is calculated by dividing the number of deaths by the population\n",
    "# and then multiplying by 10^5.\n",
    "\n",
    "df_1.crude_rate = df_1.crude_rate.fillna((df_1.deaths / df_1.population) * (10**5))"
   ]
  },
  {
   "cell_type": "code",
   "execution_count": 27,
   "metadata": {
    "scrolled": false
   },
   "outputs": [
    {
     "name": "stdout",
     "output_type": "stream",
     "text": [
      "<class 'pandas.core.frame.DataFrame'>\n",
      "RangeIndex: 14379 entries, 0 to 14378\n",
      "Data columns (total 5 columns):\n",
      " #   Column       Non-Null Count  Dtype  \n",
      "---  ------       --------------  -----  \n",
      " 0   year         14379 non-null  int64  \n",
      " 1   county_code  14379 non-null  int64  \n",
      " 2   deaths       14379 non-null  int64  \n",
      " 3   population   14379 non-null  int64  \n",
      " 4   crude_rate   14379 non-null  float64\n",
      "dtypes: float64(1), int64(4)\n",
      "memory usage: 561.8 KB\n"
     ]
    }
   ],
   "source": [
    "df_1.info()"
   ]
  },
  {
   "cell_type": "markdown",
   "metadata": {},
   "source": [
    "#### 3.5 Change datatypes (Adressing Quality Issue \\#1 \\#3)"
   ]
  },
  {
   "cell_type": "code",
   "execution_count": 28,
   "metadata": {},
   "outputs": [
    {
     "name": "stdout",
     "output_type": "stream",
     "text": [
      "<class 'pandas.core.frame.DataFrame'>\n",
      "RangeIndex: 14379 entries, 0 to 14378\n",
      "Data columns (total 5 columns):\n",
      " #   Column       Non-Null Count  Dtype   \n",
      "---  ------       --------------  -----   \n",
      " 0   year         14379 non-null  category\n",
      " 1   county_code  14379 non-null  int64   \n",
      " 2   deaths       14379 non-null  int64   \n",
      " 3   population   14379 non-null  int64   \n",
      " 4   crude_rate   14379 non-null  float64 \n",
      "dtypes: category(1), float64(1), int64(3)\n",
      "memory usage: 464.2 KB\n"
     ]
    }
   ],
   "source": [
    "# In df_1 only the year_1 is of an innefficient data type \n",
    "# as it has few unique values it can be changed to a 'category'\n",
    "\n",
    "# First I'm defining a function to use for both sets\n",
    "\n",
    "def newType(frame, label, data):\n",
    "    frame[label] = frame[label].astype(data)\n",
    "\n",
    "newType(df_1, 'year', 'category')\n",
    "\n",
    "# This has reduced the file size by roughly 17%\n",
    "\n",
    "df_1.info()"
   ]
  },
  {
   "cell_type": "code",
   "execution_count": 29,
   "metadata": {},
   "outputs": [
    {
     "name": "stdout",
     "output_type": "stream",
     "text": [
      "<class 'pandas.core.frame.DataFrame'>\n",
      "Int64Index: 15768 entries, 49857 to 1\n",
      "Data columns (total 6 columns):\n",
      " #   Column       Non-Null Count  Dtype   \n",
      "---  ------       --------------  -----   \n",
      " 0   year         15768 non-null  category\n",
      " 1   state        15768 non-null  category\n",
      " 2   county       15768 non-null  object  \n",
      " 3   county_code  15768 non-null  int64   \n",
      " 4   candidate    15768 non-null  category\n",
      " 5   party        15768 non-null  category\n",
      "dtypes: category(4), int64(1), object(1)\n",
      "memory usage: 434.3+ KB\n"
     ]
    }
   ],
   "source": [
    "# The following variables have few enough unique values to be converted from object to category to save space:\n",
    "# year_2, state, candidate, party\n",
    "\n",
    "labels = ['year', 'state', 'candidate', 'party']\n",
    "\n",
    "for i in labels:\n",
    "    newType(df_2, i, 'category')\n",
    "    \n",
    "# county_code needs to be changed to an integer value to fascillitate the merge with df_1\n",
    "\n",
    "newType(df_2, 'county_code', int)\n",
    "\n",
    "# This has reduced the file size by roughly 50%\n",
    "    \n",
    "df_2.info()"
   ]
  },
  {
   "cell_type": "markdown",
   "metadata": {},
   "source": [
    "#### 3.6 Merge the two data sets using the county_code and year as a key"
   ]
  },
  {
   "cell_type": "code",
   "execution_count": 30,
   "metadata": {},
   "outputs": [],
   "source": [
    "dfm = pd.merge(df_1, df_2, on = ['year', 'county_code'])"
   ]
  },
  {
   "cell_type": "code",
   "execution_count": 31,
   "metadata": {},
   "outputs": [
    {
     "data": {
      "text/html": [
       "<div>\n",
       "<style scoped>\n",
       "    .dataframe tbody tr th:only-of-type {\n",
       "        vertical-align: middle;\n",
       "    }\n",
       "\n",
       "    .dataframe tbody tr th {\n",
       "        vertical-align: top;\n",
       "    }\n",
       "\n",
       "    .dataframe thead th {\n",
       "        text-align: right;\n",
       "    }\n",
       "</style>\n",
       "<table border=\"1\" class=\"dataframe\">\n",
       "  <thead>\n",
       "    <tr style=\"text-align: right;\">\n",
       "      <th></th>\n",
       "      <th>year</th>\n",
       "      <th>county_code</th>\n",
       "      <th>deaths</th>\n",
       "      <th>population</th>\n",
       "      <th>crude_rate</th>\n",
       "      <th>state</th>\n",
       "      <th>county</th>\n",
       "      <th>candidate</th>\n",
       "      <th>party</th>\n",
       "    </tr>\n",
       "  </thead>\n",
       "  <tbody>\n",
       "    <tr>\n",
       "      <th>0</th>\n",
       "      <td>2000</td>\n",
       "      <td>1003</td>\n",
       "      <td>16</td>\n",
       "      <td>140415</td>\n",
       "      <td>11.394794</td>\n",
       "      <td>Alabama</td>\n",
       "      <td>Baldwin</td>\n",
       "      <td>George W. Bush</td>\n",
       "      <td>republican</td>\n",
       "    </tr>\n",
       "    <tr>\n",
       "      <th>1</th>\n",
       "      <td>2000</td>\n",
       "      <td>1015</td>\n",
       "      <td>23</td>\n",
       "      <td>112249</td>\n",
       "      <td>20.490000</td>\n",
       "      <td>Alabama</td>\n",
       "      <td>Calhoun</td>\n",
       "      <td>George W. Bush</td>\n",
       "      <td>republican</td>\n",
       "    </tr>\n",
       "    <tr>\n",
       "      <th>2</th>\n",
       "      <td>2000</td>\n",
       "      <td>1021</td>\n",
       "      <td>10</td>\n",
       "      <td>39593</td>\n",
       "      <td>25.256990</td>\n",
       "      <td>Alabama</td>\n",
       "      <td>Chilton</td>\n",
       "      <td>George W. Bush</td>\n",
       "      <td>republican</td>\n",
       "    </tr>\n",
       "    <tr>\n",
       "      <th>3</th>\n",
       "      <td>2000</td>\n",
       "      <td>1033</td>\n",
       "      <td>12</td>\n",
       "      <td>54984</td>\n",
       "      <td>21.824531</td>\n",
       "      <td>Alabama</td>\n",
       "      <td>Colbert</td>\n",
       "      <td>Al Gore</td>\n",
       "      <td>democrat</td>\n",
       "    </tr>\n",
       "    <tr>\n",
       "      <th>4</th>\n",
       "      <td>2000</td>\n",
       "      <td>1045</td>\n",
       "      <td>10</td>\n",
       "      <td>49129</td>\n",
       "      <td>20.354577</td>\n",
       "      <td>Alabama</td>\n",
       "      <td>Dale</td>\n",
       "      <td>George W. Bush</td>\n",
       "      <td>republican</td>\n",
       "    </tr>\n",
       "  </tbody>\n",
       "</table>\n",
       "</div>"
      ],
      "text/plain": [
       "   year  county_code  deaths  population  crude_rate    state   county  \\\n",
       "0  2000         1003      16      140415   11.394794  Alabama  Baldwin   \n",
       "1  2000         1015      23      112249   20.490000  Alabama  Calhoun   \n",
       "2  2000         1021      10       39593   25.256990  Alabama  Chilton   \n",
       "3  2000         1033      12       54984   21.824531  Alabama  Colbert   \n",
       "4  2000         1045      10       49129   20.354577  Alabama     Dale   \n",
       "\n",
       "        candidate       party  \n",
       "0  George W. Bush  republican  \n",
       "1  George W. Bush  republican  \n",
       "2  George W. Bush  republican  \n",
       "3         Al Gore    democrat  \n",
       "4  George W. Bush  republican  "
      ]
     },
     "execution_count": 31,
     "metadata": {},
     "output_type": "execute_result"
    }
   ],
   "source": [
    "dfm.head()"
   ]
  },
  {
   "cell_type": "markdown",
   "metadata": {
    "id": "F42urHuzttjF"
   },
   "source": [
    "## 4. Update data store"
   ]
  },
  {
   "cell_type": "code",
   "execution_count": 32,
   "metadata": {
    "id": "V3uay7EJUV_L"
   },
   "outputs": [],
   "source": [
    "# Raw data for gun related deaths\n",
    "df_1_raw.to_csv('gun_related_deaths.csv', index = False, encoding = 'utf-8')\n",
    "\n",
    "# Raw data for presidential vote\n",
    "df_2_raw.to_csv('presidential_vote.csv', index = False, encoding = 'utf-8')\n",
    "\n",
    "# Cleaned data for gun related deaths\n",
    "df_1.to_csv('gun_related_deaths_clean.csv', index = False, encoding = 'utf-8')\n",
    "\n",
    "# Cleaned data for presidential vote\n",
    "df_2.to_csv('presidential_vote_clean.csv', index = False, encoding = 'utf-8')\n",
    "\n",
    "# Cleaned and combined data set\n",
    "dfm.to_csv('grd_and_pv_clean.csv', index = False, encoding = 'utf-8')"
   ]
  },
  {
   "cell_type": "markdown",
   "metadata": {
    "id": "cGy_yddGtzhM"
   },
   "source": [
    "## 5. Answer the research question\n",
    "\n",
    " 1. Is there a correlation between gun related deaths and the dominant political party of the county?\n",
    " 2. Does the vote for any particular candidate within a political party see a change in gun related deaths?\n"
   ]
  },
  {
   "cell_type": "code",
   "execution_count": 33,
   "metadata": {},
   "outputs": [
    {
     "data": {
      "image/png": "[encoded data removed]",
      "text/plain": [
       "<Figure size 1200x800 with 1 Axes>"
      ]
     },
     "metadata": {},
     "output_type": "display_data"
    }
   ],
   "source": [
    "# First I am grouping the data by the party and year variables\n",
    "df_grouped = dfm.groupby(['party', 'year']).mean(numeric_only = True)\n",
    "\n",
    "# set width of bar \n",
    "barWidth = 0.25\n",
    "fig = plt.subplots(figsize =(12, 8)) \n",
    " \n",
    "# set height of bar \n",
    "dem = df_grouped.iloc[:5].crude_rate \n",
    "rep = df_grouped.iloc[5:].crude_rate \n",
    "\n",
    " \n",
    "# Set position of bar on X axis \n",
    "br1 = np.arange(len(dem)) \n",
    "br2 = [x + barWidth for x in br1] \n",
    " \n",
    "# Make the plot\n",
    "plt.bar(br1, dem, color ='b', width = barWidth, \n",
    "        edgecolor ='black', label ='Democrat') \n",
    "plt.bar(br2, rep, color ='r', width = barWidth, \n",
    "        edgecolor ='black', label ='Republican') \n",
    " \n",
    "# Adding Xticks \n",
    "plt.xlabel('Year', fontweight ='bold', fontsize = 15) \n",
    "plt.ylabel('Crude Rate', fontweight ='bold', fontsize = 15) \n",
    "plt.xticks([r + 0.125 for r in range(len(dem))], \n",
    "        ['2000', '2004', '2008', '2012', '2016'])\n",
    " \n",
    "plt.legend()\n",
    "plt.show()"
   ]
  },
  {
   "cell_type": "markdown",
   "metadata": {},
   "source": [
    "We see from bar plot above that the gun related deaths per capita is higher on average in majority Republican counties. We also see that it has risen steadily between 2000 and 2016."
   ]
  },
  {
   "cell_type": "code",
   "execution_count": 34,
   "metadata": {},
   "outputs": [
    {
     "data": {
      "image/png": "[encoded data removed]",
      "text/plain": [
       "<Figure size 1200x800 with 1 Axes>"
      ]
     },
     "metadata": {},
     "output_type": "display_data"
    }
   ],
   "source": [
    "# Now I am grouping the data by candidate\n",
    "df_grouped = dfm.groupby(['candidate']).mean(numeric_only = True).dropna()\n",
    "\n",
    "# set width of bar \n",
    "barWidth = 0.25\n",
    "fig = plt.subplots(figsize =(12, 8)) \n",
    " \n",
    "# set height of bar \n",
    "rate = df_grouped.crude_rate \n",
    "\n",
    "# Set position of bar on X axis \n",
    "br1 = np.arange(len(rate))  \n",
    " \n",
    "# Make the plot\n",
    "plt.bar(br1, rate, color ='g', width = barWidth, \n",
    "        edgecolor ='black') \n",
    " \n",
    "# Adding Xticks \n",
    "plt.xlabel('Candidate', fontweight ='bold', fontsize = 15) \n",
    "plt.ylabel('Crude Rate', fontweight ='bold', fontsize = 15) \n",
    "candlist = (list(dfm.candidate.unique()))\n",
    "candlist.sort()\n",
    "plt.xticks([r for r in range(len(rate))], \n",
    "        candlist)\n",
    "\n",
    "plt.show()"
   ]
  },
  {
   "cell_type": "markdown",
   "metadata": {},
   "source": [
    "The plot shows that the year of Donald Trump's election saw the highest rate of gun related deaths in his majority states, and that John Kerry saw the lowest rate."
   ]
  },
  {
   "cell_type": "markdown",
   "metadata": {
    "id": "0ezWXXZVj-TP"
   },
   "source": [
    "### **5.2:** Reflection\n",
    "On reflection I think a fairer way to look at the data, particularly for each candidate would be to find the overall rate of increase of gun related deaths across the country and scale to that. I would also like to combine the data for gun related deaths for the years in office of with elected year for each candidate to see if it is consistent or not."
   ]
  }
 ],
 "metadata": {
  "colab": {
   "provenance": []
  },
  "kernelspec": {
   "display_name": "Python 3 (ipykernel)",
   "language": "python",
   "name": "python3"
  },
  "language_info": {
   "codemirror_mode": {
    "name": "ipython",
    "version": 3
   },
   "file_extension": ".py",
   "mimetype": "text/x-python",
   "name": "python",
   "nbconvert_exporter": "python",
   "pygments_lexer": "ipython3",
   "version": "3.10.10"
  }
 },
 "nbformat": 4,
 "nbformat_minor": 1
}
